{
 "cells": [
  {
   "cell_type": "code",
   "execution_count": 20,
   "id": "21a244d1",
   "metadata": {},
   "outputs": [
    {
     "data": {
      "text/plain": [
       "10"
      ]
     },
     "execution_count": 20,
     "metadata": {},
     "output_type": "execute_result"
    }
   ],
   "source": [
    "def suma (m = 1, /, n = 2,*, p = 3):  \n",
    "    return m + n + p\n",
    "\n",
    "# todos los parámetros tienen argumento por defecto\n",
    "# el parámetro m SOLO es posicional (no puedo escribir el nombre del parámetro)\n",
    "# el parámetro p TENGO que escribir el nombre del parámetro\n",
    "\n",
    "suma(p = 5, n = 4)    \n"
   ]
  },
  {
   "cell_type": "code",
   "execution_count": 23,
   "id": "90697b3e",
   "metadata": {},
   "outputs": [],
   "source": [
    "class Fruta:\n",
    "    pass\n",
    "\n",
    "\n",
    "fruta1 = Fruta()\n",
    "fruta2 = Fruta()    \n",
    "\n"
   ]
  },
  {
   "cell_type": "code",
   "execution_count": null,
   "id": "bd5b681f",
   "metadata": {},
   "outputs": [
    {
     "name": "stdout",
     "output_type": "stream",
     "text": [
      "el precio de Manzana es 7\n",
      "el precio de Naranja es 2\n",
      "la fruta Naranja me gusta mucho.\n",
      "Naranja 3 Granate\n",
      "¡ole!\n"
     ]
    },
    {
     "data": {
      "text/plain": [
       "'Portugal'"
      ]
     },
     "execution_count": 57,
     "metadata": {},
     "output_type": "execute_result"
    }
   ],
   "source": [
    "class Fruta:\n",
    "    \n",
    "    pais = \"España\"\n",
    "    lista_fruterias = []\n",
    "    \n",
    "    def __init__(self, nombre_fruta = \"Uva\", precio_fruta = 2):\n",
    "        self.nombre = nombre_fruta\n",
    "        self.precio = precio_fruta\n",
    "        \n",
    "    def subir_euros(self, cantidad):\n",
    "        self.precio = self.precio + cantidad\n",
    "        self.lista_fruterias.append(self.nombre)\n",
    "        \n",
    "    def pon_color(self, color_fruta):\n",
    "        self.color = color_fruta\n",
    "        \n",
    "    def mostrar_precio(self):\n",
    "        return \"el precio de \" + self.nombre + \" es \" + str(self.precio)\n",
    "    \n",
    "    def pon_color_y_dime_precio(self, color_nuevo):\n",
    "        self.pon_color(color_nuevo)\n",
    "        print(self.mostrar_precio())\n",
    "        \n",
    "    def __str__(self):\n",
    "        return f\"la fruta {self.nombre} me gusta mucho.\"\n",
    "    \n",
    "    def __eq__(self, otra):\n",
    "        return self.nombre == otra.nombre\n",
    "    \n",
    "    def __call__(self):\n",
    "        self.precio += 1\n",
    "        print(self.nombre, self.precio, self.color)\n",
    "        return \"¡ole!\"\n",
    "    \n",
    "    @classmethod # @staticmethod\n",
    "    def cambia_pais(cls, pais_nuevo):\n",
    "        cls.pais = pais_nuevo \n",
    "    \n",
    "    \n",
    "    def imprime_mensaje():\n",
    "        print(\"¡hola!\")\n",
    "    \n",
    "    \n",
    "fruta1 = Fruta()\n",
    "fruta2 = Fruta(\"Manzana\")\n",
    "fruta3 = Fruta(\"Naranja\")\n",
    "fruta4 = Fruta(\"Naranja\")\n",
    "\n",
    "fruta2.subir_euros(5)\n",
    "print(fruta2.mostrar_precio()) # fruta2.precio\n",
    "fruta3.pon_color_y_dime_precio(\"Granate\")\n",
    "\n",
    "print(str(fruta3))\n",
    "fruta3 == fruta4\n",
    "fruta3.__eq__(fruta4)\n",
    "\n",
    "mensaje_devuelto = fruta3 ()\n",
    "print(mensaje_devuelto)\n",
    "\n",
    "Fruta.pais\n",
    "\n",
    "Fruta.cambia_pais(\"Portugal\")\n",
    "\n",
    "Fruta.pais\n",
    "\n"
   ]
  },
  {
   "cell_type": "code",
   "execution_count": 24,
   "id": "27a8521c",
   "metadata": {},
   "outputs": [
    {
     "data": {
      "text/plain": [
       "__main__.Fruta"
      ]
     },
     "execution_count": 24,
     "metadata": {},
     "output_type": "execute_result"
    }
   ],
   "source": [
    "type(fruta1)"
   ]
  }
 ],
 "metadata": {
  "kernelspec": {
   "display_name": "Python 3",
   "language": "python",
   "name": "python3"
  },
  "language_info": {
   "codemirror_mode": {
    "name": "ipython",
    "version": 3
   },
   "file_extension": ".py",
   "mimetype": "text/x-python",
   "name": "python",
   "nbconvert_exporter": "python",
   "pygments_lexer": "ipython3",
   "version": "3.13.0"
  }
 },
 "nbformat": 4,
 "nbformat_minor": 5
}
